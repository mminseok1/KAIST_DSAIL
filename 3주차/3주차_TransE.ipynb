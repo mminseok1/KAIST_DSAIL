{
 "cells": [
  {
   "cell_type": "markdown",
   "metadata": {},
   "source": [
    "참조 : https://github.com/mklimasz/TransE-PyTorch/blob/master/model.py"
   ]
  },
  {
   "cell_type": "code",
   "execution_count": 1,
   "metadata": {},
   "outputs": [],
   "source": [
    "import numpy as np \n",
    "import torch\n",
    "import torch.nn as nn "
   ]
  },
  {
   "cell_type": "code",
   "execution_count": 2,
   "metadata": {},
   "outputs": [],
   "source": [
    "class TransE(nn.Module):\n",
    "\n",
    "    def __init__(self, entity_count, relation_count, device = 'cpu', d_norm = 1, embedding_dimension = 100, gamma=1.0):\n",
    "        super(TransE, self).__init__()\n",
    "        self.entity_count = entity_count\n",
    "        self.relation_count = relation_count\n",
    "        self.device = device\n",
    "        self.d_norm = d_norm\n",
    "        self.embedding_dimension = embedding_dimension\n",
    "        self.gamma = gamma \n",
    "\n",
    "        self.entities_embedding = self._init_enitity_embedding()\n",
    "        self.relations_embedding= self._init_relation_embedding()\n",
    "\n",
    "        # nn.MarginRankingLoss는 loss(x1,x2,y) = max(0, - y * (x1 - x2) + margin)을 의미 \n",
    "        self.criterion = nn.MarginRankingLoss(gamma = gamma, reduction='none')\n",
    "\n",
    "\n",
    "\n",
    "    def _init_enitity_embedding(self):\n",
    "        entities_embedding = nn.Embedding(num_embeddings=self.entity_count + 1,\n",
    "                                    embedding_dim=self.embedding_dimension,\n",
    "                                    padding_idx=self.entity_count)\n",
    "        # 균등 분포 만들기 \n",
    "        uniform_range = 6 / np.sqrt(self.embedding_dimension)\n",
    "        # 균등 분포에서 가져온 임의 값으로 가중치 행렬을 초기화 \n",
    "        entities_embedding.weight.data.uniform_(-uniform_range, uniform_range)\n",
    "\n",
    "        # num_embeddings * embedding_dim 행렬이 아웃풋으로 출력 \n",
    "        return entities_embedding                                                          \n",
    "\n",
    "\n",
    "    def _init_relation_embedding(self):\n",
    "        relations_embedding = nn.Embedding(num_embeddings=self.relation_count + 1,\n",
    "                                     embedding_dim=self.embedding_dimension,\n",
    "                                     padding_idx=self.relation_count)\n",
    "        # 균등 분포 만들기 \n",
    "        uniform_range = 6 / np.sqrt(self.embedding_dimension)\n",
    "        # 균등 분포에서 가져온 임의 값으로 가중치 행렬을 초기화 \n",
    "        relations_embedding.weight.data.uniform_(-uniform_range, uniform_range)\n",
    "        \n",
    "        # -1 to avoid nan for OOV vector\n",
    "        # Relations의 행을 L1 정규화 \n",
    "        relations_embedding.weight.data[:-1, :].div_(relations_embedding.weight.data[:-1, :].norm(p=1, dim=1, keepdim=True))                \n",
    "        return relations_embedding\n",
    "\n",
    "\n",
    "    def forward(self, original_triplets: torch.LongTensor, corrupted_triplets: torch.LongTensor):\n",
    "\n",
    "        # -1 to avoid nan for OOV vector\n",
    "        # Entities의 행을 L2 정규화 \n",
    "        self.entities_embedding.weight.data[:-1, :].div_(self.entities_embedding.weight.data[:-1, :].norm(p=2, dim=1, keepdim=True))   \n",
    "       \n",
    "        original_distances = self._distance(original_triplets)\n",
    "        corrupted_distances = self._distance(corrupted_triplets)\n",
    "\n",
    "        return self.loss(original_distances, corrupted_distances), original_distances, corrupted_distances\n",
    "\n",
    "\n",
    "    def predict(self, triplets: torch.LongTensor):\n",
    "        return self._distance(triplets)\n",
    "\n",
    "\n",
    "    def loss(self, original_distances, corrupted_distances):\n",
    "        target = torch.tensor([-1], dtype=torch.long, device=self.device)\n",
    "        return self.criterion(original_distances, corrupted_distances, target)\n",
    "\n",
    "\n",
    "    def _distance(self, triplets):\n",
    "        heads = triplets[:, 0]\n",
    "        relations = triplets[:, 1]\n",
    "        tails = triplets[:, 2]\n",
    "\n",
    "    # 임베딩 공간 속 h + l과 t의 거리 구하기   \n",
    "        return (self.entities_embedding(heads) + self.relations_embedding(relations) - self.entities_embedding(tails)).norm(p=self.d_norm, dim=1)"
   ]
  },
  {
   "cell_type": "markdown",
   "metadata": {},
   "source": [
    "결국 optimize은 임베딩의 가중치를 최적화하는 과정 \n",
    "\"h + l = t에 근사하는 임베딩 가중치를 얻겠다\""
   ]
  }
 ],
 "metadata": {
  "interpreter": {
   "hash": "64899620a4720dc65f8590bd807a147b9e0b586abbcb5f41c4838230f5e89ff5"
  },
  "kernelspec": {
   "display_name": "Python 3.7.16 64-bit (conda)",
   "language": "python",
   "name": "python3"
  },
  "language_info": {
   "codemirror_mode": {
    "name": "ipython",
    "version": 3
   },
   "file_extension": ".py",
   "mimetype": "text/x-python",
   "name": "python",
   "nbconvert_exporter": "python",
   "pygments_lexer": "ipython3",
   "version": "3.7.16"
  },
  "orig_nbformat": 4
 },
 "nbformat": 4,
 "nbformat_minor": 2
}
