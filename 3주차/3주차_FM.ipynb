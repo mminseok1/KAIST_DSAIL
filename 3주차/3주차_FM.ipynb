{
 "cells": [
  {
   "cell_type": "markdown",
   "metadata": {},
   "source": [
    "참고: https://hongl.tistory.com/245"
   ]
  },
  {
   "cell_type": "markdown",
   "metadata": {},
   "source": [
    "가지고 있는 데이터의 형태는 이렇다 \n",
    "- userid, movieid, rating, timestamp\n",
    "- [1, 2, 3.5, 시간] \n",
    "- [1, 367, 3.5, 시간] "
   ]
  },
  {
   "cell_type": "markdown",
   "metadata": {},
   "source": [
    "이후 원핫인코딩을 이용하여 데이터를 전처리하게 됨 \n",
    "- 따라서 (User의 수) + (item의 수) + (Rating) 만큼 열이 생긴다 \n",
    "- -> 이전 데이터보다 훨씬 Sparse해짐 "
   ]
  },
  {
   "cell_type": "code",
   "execution_count": 1,
   "metadata": {},
   "outputs": [],
   "source": [
    "import torch \n",
    "import torch.nn as nn "
   ]
  },
  {
   "cell_type": "code",
   "execution_count": null,
   "metadata": {},
   "outputs": [],
   "source": [
    "class FM(torch.nn.Module):\n",
    "    def __init__(self, field_dimension, embeding_dimension):\n",
    "        super().__init__()\n",
    "        \n",
    "        # nn.Embedding의 변수는 행렬곱을 의미, 작은 무작위 값으로 초기화 \n",
    "        # nn.Parameter은 모델의 학습 가능한 매개변수를 나타냄, 0으로 초기화 \n",
    "        self.embedding = nn.Embedding(sum(field_dimension), embeding_dimension)\n",
    "        self.weighted_sum = nn.Embedding(sum(field_dimension), 1)\n",
    "        self.global_bias = nn.Parameter(torch.zeros((1,)))\n",
    "\n",
    "    def forward(self, x):\n",
    "        # 시간 복잡도 Trick 사용 -> Linear하게 만들어줌 \n",
    "        first = torch.sum(self.embedding(x), dim=1) ** 2\n",
    "        second = torch.sum(self.embedding(x) ** 2, dim=1)\n",
    "        \n",
    "        # torch.sum에서 dim = 1은 행을 다 더하는 것 \n",
    "        third_term  = torch.sum(0.5 * (first - second), dim = 1, keepdim=True)\n",
    "        x = self.global_bias + torch.sum(self.weighted_sum(x), dim=1) + third_term\n",
    "\n",
    "        # 크기가 1인 차원을 없애고, sigmoid를 씌움 \n",
    "        return torch.sigmoid(x.squeeze(1))\n",
    "\n"
   ]
  },
  {
   "cell_type": "code",
   "execution_count": null,
   "metadata": {},
   "outputs": [],
   "source": [
    "# field_dimension은 np.max(data, axis = 0) + 1로 구함 \n",
    "# + 1은 Rating에 해당되는 열을 추가하기 위함 \n",
    "\n",
    "'''\n",
    "model = FM(field_dimension, 16)\n",
    "criterion = torch.nn.BCELoss() \n",
    "optimizer = torch.optim.Adam(params=model.parameters(), lr=0.01, weight_decay=1e-5)\n",
    "'''"
   ]
  }
 ],
 "metadata": {
  "interpreter": {
   "hash": "64899620a4720dc65f8590bd807a147b9e0b586abbcb5f41c4838230f5e89ff5"
  },
  "kernelspec": {
   "display_name": "Python 3.7.16 64-bit (conda)",
   "language": "python",
   "name": "python3"
  },
  "language_info": {
   "codemirror_mode": {
    "name": "ipython",
    "version": 3
   },
   "file_extension": ".py",
   "mimetype": "text/x-python",
   "name": "python",
   "nbconvert_exporter": "python",
   "pygments_lexer": "ipython3",
   "version": "3.7.16"
  },
  "orig_nbformat": 4
 },
 "nbformat": 4,
 "nbformat_minor": 2
}
