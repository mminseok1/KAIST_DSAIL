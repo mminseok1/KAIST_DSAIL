{
  "cells": [
    {
      "cell_type": "markdown",
      "metadata": {
        "id": "bxOUXRy3pbLk"
      },
      "source": [
        "Reference : https://github.com/seohl16/GNN_RECSYS_paper/blob/master/RecommenderSystem/PMF/pmf1-simpledataframe.ipynb"
      ]
    },
    {
      "cell_type": "code",
      "execution_count": 3,
      "metadata": {
        "id": "ilgt46JCmR4g"
      },
      "outputs": [],
      "source": [
        "import numpy as np \n",
        "import pandas as pd \n",
        "from matplotlib import pyplot as plt \n",
        "import random\n",
        "import argparse\n",
        "import pickle\n",
        "import torch"
      ]
    },
    {
      "cell_type": "code",
      "execution_count": 4,
      "metadata": {
        "id": "umhi2msNmE8V"
      },
      "outputs": [],
      "source": [
        "# N = 7, M = 5인 Preference matrix \n",
        "R = np.array([\n",
        "    [1, 0, 0, 1, 3],\n",
        "    [2, 0, 3, 1, 1],\n",
        "    [1, 2, 0, 5, 0],\n",
        "    [1, 0, 0, 4, 4],\n",
        "    [2, 1, 5, 4, 0],\n",
        "    [5, 1, 5, 4, 0],\n",
        "    [0, 0, 0, 1, 0],\n",
        "])\n",
        "\n",
        "# The latent matrix의 사이즈는 (7, d), (d, 5)"
      ]
    },
    {
      "cell_type": "code",
      "execution_count": 7,
      "metadata": {
        "id": "WRKoRzZLmNvc"
      },
      "outputs": [],
      "source": [
        "class ProbabilisticMatrixFactorization(torch.nn.Module): \n",
        "    def __init__(self, R, d=10, lr=0.01, epochs=10):\n",
        "      super(ProbabilisticMatrixFactorization, self).__init__()\n",
        "      self.R = R                  # Preference matrix\n",
        "      self.d = d                  # Hyperparameter for dimension\n",
        "      self.lr = lr                # Learning late\n",
        "      self.epochs = epochs        \n",
        "      self.nusers = R.shape[0]    # N\n",
        "      self.mitems = R.shape[1]    # M \n",
        "\n",
        "      # latent vectors\n",
        "      self.user_vecs = np.random.normal(scale = 1. / self.d, size=(self.nusers, self.d))  # 평균이 0, 표준편차가 1. / self.d에서 나오는 난수 값을 가지는 [self.nusers, self.d] 행렬 \n",
        "      self.item_vecs = np.random.normal(scale = 1. / self.d, size=(self.mitems, self.d))\n",
        "\n",
        "      self.all_mean = np.sum(self.R) / len(np.where(self.R > 0)[0])\n",
        "      print(\"Average of all ratings:\", self.all_mean)\n",
        "\n",
        "    def fit(self) :\n",
        "      xi, yi = self.R.nonzero() \n",
        "      print(\"Model epochs:\", self.epochs)\n",
        "      for epoch in range(self.epochs):\n",
        "        for i, j in zip(xi, yi):\n",
        "          residual = self.R[i, j] - np.dot(self.user_vecs[i], self.item_vecs[j].transpose())\n",
        "          if i == 0 and j == 3 and epoch % 10 == 0:\n",
        "            print(\"[Epoch %2d] Target Score %d, Predicted Score %.4f, Residual %.4f\" %(epoch, self.R[i, j], np.dot(self.user_vecs[i], self.item_vecs[j].transpose()), residual))\n",
        "          temp = self.user_vecs[i, :] \n",
        "          self.user_vecs[i, :] += self.lr * residual * self.item_vecs[j, :] # Gradient Descent 효과 \n",
        "          self.item_vecs[j, :] += self.lr * residual * temp                 # Gradient Descent 효과\n",
        "\n",
        "\n",
        "    def test(self, user_ind, item_ind):   # U(T) * V 행렬 곱을 의미함 \n",
        "      if user_ind >= self.nusers or item_ind >= self.mitems or user_ind < 0 or item_ind < 0:  # 평가하지 않은 데이터는 전체 평균으로 처리 \n",
        "        return self.all_mean\n",
        "      nanCheck = np.dot(self.user_vecs[user_ind, :], self.item_vecs[item_ind, :])             # 평가하지 않은 데이터는 전체 평균으로 처리 \n",
        "      if np.isnan(nanCheck):\n",
        "        return self.all_mean \n",
        "      else: \n",
        "        return np.dot(self.user_vecs[user_ind, :], self.item_vecs[item_ind, :]) \n",
        "      "
      ]
    },
    {
      "cell_type": "code",
      "execution_count": 9,
      "metadata": {
        "colab": {
          "base_uri": "https://localhost:8080/"
        },
        "id": "STcthzKjmQ8S",
        "outputId": "dbc52265-40bd-460f-b4e8-b3715294c0a6"
      },
      "outputs": [
        {
          "name": "stdout",
          "output_type": "stream",
          "text": [
            "Average of all ratings: 2.590909090909091\n",
            "Model epochs: 100\n",
            "[Epoch  0] Target Score 1, Predicted Score -0.0161, Residual 1.0161\n",
            "[Epoch 10] Target Score 1, Predicted Score 0.0752, Residual 0.9248\n",
            "[Epoch 20] Target Score 1, Predicted Score 0.5848, Residual 0.4152\n",
            "[Epoch 30] Target Score 1, Predicted Score 1.4007, Residual -0.4007\n",
            "[Epoch 40] Target Score 1, Predicted Score 1.6973, Residual -0.6973\n",
            "[Epoch 50] Target Score 1, Predicted Score 1.7594, Residual -0.7594\n",
            "[Epoch 60] Target Score 1, Predicted Score 1.7178, Residual -0.7178\n",
            "[Epoch 70] Target Score 1, Predicted Score 1.6280, Residual -0.6280\n",
            "[Epoch 80] Target Score 1, Predicted Score 1.5240, Residual -0.5240\n",
            "[Epoch 90] Target Score 1, Predicted Score 1.4238, Residual -0.4238\n"
          ]
        }
      ],
      "source": [
        "# The loss of a single element is decreasing\n",
        "factorizer = ProbabilisticMatrixFactorization(R, d=10, lr=0.01, epochs=100)\n",
        "factorizer.fit()"
      ]
    },
    {
      "cell_type": "code",
      "execution_count": 10,
      "metadata": {
        "colab": {
          "base_uri": "https://localhost:8080/"
        },
        "id": "RfGqSibTo_Lc",
        "outputId": "2837d5d5-ba77-4a46-cb11-67fa6d160849"
      },
      "outputs": [
        {
          "data": {
            "text/plain": [
              "3"
            ]
          },
          "execution_count": 10,
          "metadata": {},
          "output_type": "execute_result"
        }
      ],
      "source": [
        "# Truth\n",
        "R[0, 4]"
      ]
    },
    {
      "cell_type": "code",
      "execution_count": 11,
      "metadata": {
        "colab": {
          "base_uri": "https://localhost:8080/"
        },
        "id": "1KAEkKrCpG_7",
        "outputId": "862e6e41-78e3-4814-b677-2c3faf61262e"
      },
      "outputs": [
        {
          "data": {
            "text/plain": [
              "2.695063265815001"
            ]
          },
          "execution_count": 11,
          "metadata": {},
          "output_type": "execute_result"
        }
      ],
      "source": [
        "# Predicted. (2.9 and 3 is similar)\n",
        "factorizer.test(0,4)"
      ]
    },
    {
      "cell_type": "code",
      "execution_count": 12,
      "metadata": {},
      "outputs": [
        {
          "name": "stdout",
          "output_type": "stream",
          "text": [
            "anyio==3.7.1\n",
            "appnope==0.1.3\n",
            "argon2-cffi==23.1.0\n",
            "argon2-cffi-bindings==21.2.0\n",
            "attrs==23.2.0\n",
            "backcall==0.2.0\n",
            "beautifulsoup4==4.12.2\n",
            "bleach==6.0.0\n",
            "certifi @ file:///private/var/folders/sy/f16zz6x50xz3113nwtb9bvq00000gp/T/abs_477u68wvzm/croot/certifi_1671487773341/work/certifi\n",
            "cffi==1.15.1\n",
            "comm==0.1.4\n",
            "cycler==0.11.0\n",
            "debugpy==1.7.0\n",
            "decorator==5.1.1\n",
            "defusedxml==0.7.1\n",
            "entrypoints==0.4\n",
            "exceptiongroup==1.2.0\n",
            "fastjsonschema==2.19.1\n",
            "fonttools==4.38.0\n",
            "gensim==4.2.0\n",
            "idna==3.6\n",
            "importlib-metadata==6.7.0\n",
            "importlib-resources==5.12.0\n",
            "ipykernel==6.16.2\n",
            "ipython==7.34.0\n",
            "ipython-genutils==0.2.0\n",
            "ipywidgets==8.1.1\n",
            "jedi==0.19.1\n",
            "Jinja2==3.1.2\n",
            "jsonschema==4.17.3\n",
            "jupyter==1.0.0\n",
            "jupyter-console==6.6.3\n",
            "jupyter-server==1.24.0\n",
            "jupyter_client==7.4.9\n",
            "jupyter_core==4.12.0\n",
            "jupyterlab-pygments==0.2.2\n",
            "jupyterlab-widgets==3.0.9\n",
            "kiwisolver==1.4.5\n",
            "MarkupSafe==2.1.3\n",
            "matplotlib==3.5.3\n",
            "matplotlib-inline==0.1.6\n",
            "mistune==3.0.2\n",
            "nbclassic==1.0.0\n",
            "nbclient==0.7.4\n",
            "nbconvert==7.6.0\n",
            "nbformat==5.8.0\n",
            "nest-asyncio==1.5.8\n",
            "networkx==2.6.3\n",
            "notebook==6.5.6\n",
            "notebook_shim==0.2.3\n",
            "numpy==1.21.6\n",
            "packaging==23.2\n",
            "pandas==1.3.5\n",
            "pandocfilters==1.5.0\n",
            "parso==0.8.3\n",
            "pexpect==4.9.0\n",
            "pickleshare==0.7.5\n",
            "Pillow==9.5.0\n",
            "pkgutil_resolve_name==1.3.10\n",
            "prometheus-client==0.17.1\n",
            "prompt-toolkit==3.0.43\n",
            "psutil==5.9.7\n",
            "ptyprocess==0.7.0\n",
            "pycparser==2.21\n",
            "Pygments==2.17.2\n",
            "pyparsing==3.1.1\n",
            "pyrsistent==0.19.3\n",
            "python-dateutil==2.8.2\n",
            "pytz==2023.3.post1\n",
            "pyzmq==24.0.1\n",
            "qtconsole==5.4.4\n",
            "QtPy==2.4.1\n",
            "scipy==1.7.3\n",
            "Send2Trash==1.8.2\n",
            "six==1.16.0\n",
            "smart-open==6.4.0\n",
            "sniffio==1.3.0\n",
            "soupsieve==2.4.1\n",
            "terminado==0.17.1\n",
            "tinycss2==1.2.1\n",
            "torch==1.13.1\n",
            "tornado==6.2\n",
            "traitlets==5.9.0\n",
            "typing_extensions==4.7.1\n",
            "wcwidth==0.2.12\n",
            "webencodings==0.5.1\n",
            "websocket-client==1.6.1\n",
            "widgetsnbextension==4.0.9\n",
            "zipp==3.15.0\n",
            "Note: you may need to restart the kernel to use updated packages.\n"
          ]
        }
      ],
      "source": [
        "pip freeze"
      ]
    }
  ],
  "metadata": {
    "colab": {
      "provenance": []
    },
    "kernelspec": {
      "display_name": "Python 3",
      "name": "python3"
    },
    "language_info": {
      "codemirror_mode": {
        "name": "ipython",
        "version": 3
      },
      "file_extension": ".py",
      "mimetype": "text/x-python",
      "name": "python",
      "nbconvert_exporter": "python",
      "pygments_lexer": "ipython3",
      "version": "3.7.16"
    }
  },
  "nbformat": 4,
  "nbformat_minor": 0
}
