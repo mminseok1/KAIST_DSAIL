{
 "cells": [
  {
   "cell_type": "markdown",
   "metadata": {},
   "source": [
    "# Train 데이터로 X, Y 학습시키기 \n",
    "- Random seed를 0으로 지정하고 시작"
   ]
  },
  {
   "cell_type": "code",
   "execution_count": 77,
   "metadata": {},
   "outputs": [],
   "source": [
    "import numpy as np\n",
    "import pandas as pd \n",
    "import time\n",
    "np.random.seed(0)"
   ]
  },
  {
   "cell_type": "code",
   "execution_count": 78,
   "metadata": {},
   "outputs": [],
   "source": [
    "# 파라미터 지정 \n",
    "dimension = 50\n",
    "alpha = 40\n",
    "lambda_for_regularization = 40"
   ]
  },
  {
   "cell_type": "code",
   "execution_count": 79,
   "metadata": {},
   "outputs": [],
   "source": [
    "# Train 데이터 불러오기 \n",
    "\n",
    "file_path_train = '/Users/yoonminseok/Desktop/DSAIL/2주차/u1.base.csv'\n",
    "movie_data_train = pd.read_csv(file_path_train, delimiter='\\t', header=None, names=['user_id', 'movie_id', 'rating', 'timestamp'])\n",
    "\n",
    "# Test 데이터 불러오기 \n",
    "\n",
    "file_path_test = '/Users/yoonminseok/Desktop/DSAIL/2주차/u1.test.csv'\n",
    "movie_data_test = pd.read_csv(file_path_test, delimiter='\\t', header=None, names=['user_id', 'movie_id', 'rating', 'timestamp'])\n",
    "\n",
    "\n",
    "# 타임스탬프 버리기\n",
    "movie_data_train = movie_data_train[['user_id', 'movie_id', 'rating']]\n",
    "movie_data_test = movie_data_test[['user_id', 'movie_id', 'rating']]\n",
    "\n",
    "# R Matrix 만들기 \n",
    "R_matrix = movie_data_train.pivot(index='user_id', columns='movie_id', values='rating')\n",
    "R_matrix_test = movie_data_test.pivot(index='user_id', columns='movie_id', values='rating')"
   ]
  },
  {
   "cell_type": "code",
   "execution_count": 80,
   "metadata": {},
   "outputs": [],
   "source": [
    "def common_columns_matrix(matrix1, matrix2):\n",
    "    common_columns = set(matrix1.columns) & set(matrix2.columns)\n",
    "\n",
    "    if not common_columns:\n",
    "        return None\n",
    "    common_columns_matrix1 = matrix1[common_columns]\n",
    "    common_columns_matrix2 = matrix2[common_columns]\n",
    "\n",
    "    return common_columns_matrix1, common_columns_matrix2\n",
    "\n",
    "def common_rows_matrix(matrix1, matrix2):\n",
    "    common_rows = matrix1.index.intersection(matrix2.index)\n",
    "\n",
    "    if common_rows.empty:\n",
    "        return None\n",
    "    common_rows_matrix1 = matrix1.loc[common_rows]\n",
    "    common_rows_matrix2 = matrix2.loc[common_rows]\n",
    "\n",
    "    return common_rows_matrix1, common_rows_matrix2"
   ]
  },
  {
   "cell_type": "code",
   "execution_count": 81,
   "metadata": {},
   "outputs": [],
   "source": [
    "R_matrix, R_matrix_test = common_columns_matrix(R_matrix, R_matrix_test)\n",
    "R_matrix, R_matrix_test = common_rows_matrix(R_matrix, R_matrix_test)\n"
   ]
  },
  {
   "cell_type": "code",
   "execution_count": 82,
   "metadata": {},
   "outputs": [
    {
     "data": {
      "text/plain": [
       "((459, 1378), (459, 1378))"
      ]
     },
     "execution_count": 82,
     "metadata": {},
     "output_type": "execute_result"
    }
   ],
   "source": [
    "R_matrix.shape, R_matrix_test.shape "
   ]
  },
  {
   "cell_type": "code",
   "execution_count": 83,
   "metadata": {},
   "outputs": [],
   "source": [
    "# 크기 줄이기 \n",
    "R_matrix = R_matrix.iloc[:450, :1000]\n",
    "R_matrix_test = R_matrix_test.iloc[:450,:1000]"
   ]
  },
  {
   "cell_type": "code",
   "execution_count": 84,
   "metadata": {},
   "outputs": [],
   "source": [
    "# M: User , N : Item \n",
    "M = R_matrix.shape[0]\n",
    "N = R_matrix.shape[1]\n",
    "\n",
    "# Latent matrix \n",
    "X = np.random.rand(M, dimension) * 0.01    # 0 ~ 0.01 사이 난수 \n",
    "Y = np.random.rand(N, dimension) * 0.01"
   ]
  },
  {
   "cell_type": "code",
   "execution_count": 85,
   "metadata": {},
   "outputs": [],
   "source": [
    "# P_matrix 설정 \n",
    "P_matrix = np.copy(R_matrix)\n",
    "P_matrix[P_matrix > 0] = 1\n",
    "P_matrix = np.nan_to_num(P_matrix, nan=0)\n",
    "\n",
    "# C_matrix 설정 \n",
    "# C_matrix = 1 + alpha * R_matrix 도 존재  \n",
    "C_matrix = 1 + np.log(1+ np.nan_to_num(R_matrix) / 10**(-8))    # 로그 스케일을 쓰는 방법 "
   ]
  },
  {
   "cell_type": "code",
   "execution_count": 86,
   "metadata": {},
   "outputs": [],
   "source": [
    "def loss_function(C_matrix, P_matrix, xTy, X, Y, lambda_for_regularization):\n",
    "    # 첫 번째 항 \n",
    "    predict_error = np.square(P_matrix - xTy)\n",
    "    confidence_error = np.nansum(C_matrix * predict_error)\n",
    "\n",
    "    # 두 번째 항 \n",
    "    regularization =lambda_for_regularization * (np.nansum(np.square(X)) + np.nansum(np.square(Y)))\n",
    "    total_loss = confidence_error + regularization\n",
    "    \n",
    "    return np.nansum(predict_error), confidence_error, regularization, total_loss"
   ]
  },
  {
   "cell_type": "code",
   "execution_count": 87,
   "metadata": {},
   "outputs": [],
   "source": [
    "# X 업데이트 \n",
    "# Trick 사용 \n",
    "\n",
    "def optimize_user(X, Y, C_matrix, P_matrix, M, N, dimension,lambda_for_regularization, yTy):                                                    \n",
    "    for u in range(M): \n",
    "        Cu = np.diag(C_matrix[u])\n",
    "        yT_Cu_y = yTy + np.matmul(np.matmul(np.transpose(Y), Cu - np.identity(N)), Y)               # 시간복잡도 Trick 사용됨 \n",
    "        lI = np.dot(lambda_for_regularization, np.identity(dimension))\n",
    "        yT_Cu_pu = np.matmul(np.transpose(Y),P_matrix[u])+ np.matmul(np.matmul(np.transpose(Y), Cu - np.identity(N)), P_matrix[u])\n",
    "        X[u] = np.linalg.solve(yT_Cu_y + lI, yT_Cu_pu)                                              # Ax = b에서 x를 구하는 데 사용되는 함수\n",
    "        \n",
    "# Y 업데이트 \n",
    "# Trick 사용 \n",
    "\n",
    "def optimize_item(X, Y, C_matrix, P_matrix, M, N, dimension, lambda_for_regularization, xTx):                                                          \n",
    "    for i in range(N):\n",
    "        Ci = np.diag(C_matrix[:, i])\n",
    "        xT_Ci_x = xTx + np.matmul(np.matmul(np.transpose(X), Ci - np.identity(M)), X)          \n",
    "        lI = np.dot(lambda_for_regularization, np.identity(dimension))\n",
    "        xT_Ci_pi = np.matmul(np.transpose(X),P_matrix[:, i]) + np.matmul(np.matmul(np.transpose(X), Ci-np.identity(M)), P_matrix[:, i])                        \n",
    "        Y[i] = np.linalg.solve(xT_Ci_x + lI, xT_Ci_pi)                                              # Ax = b에서 x를 구하는 데 사용되는 함수"
   ]
  },
  {
   "cell_type": "code",
   "execution_count": 93,
   "metadata": {},
   "outputs": [
    {
     "name": "stdout",
     "output_type": "stream",
     "text": [
      "----------------step 0----------------\n",
      "predict error: 28761.945756\n",
      "confidence error: 593262.246100\n",
      "regularization: 96.323088\n",
      "total loss: 593358.569188\n",
      "Total execution time: 6.607348 seconds\n",
      "----------------step 1----------------\n",
      "predict error: 100035.202147\n",
      "confidence error: 265997.158344\n",
      "regularization: 44153.718964\n",
      "total loss: 310150.877308\n",
      "Total execution time: 6.075380 seconds\n",
      "----------------step 2----------------\n",
      "predict error: 169461.371286\n",
      "confidence error: 188315.238604\n",
      "regularization: 73789.363580\n",
      "total loss: 262104.602183\n",
      "Total execution time: 6.597061 seconds\n",
      "----------------step 3----------------\n",
      "predict error: 89237.071428\n",
      "confidence error: 113770.607494\n",
      "regularization: 72921.528555\n",
      "total loss: 186692.136049\n",
      "Total execution time: 6.245643 seconds\n",
      "----------------step 4----------------\n",
      "predict error: 51121.164756\n",
      "confidence error: 83277.616396\n",
      "regularization: 91754.020370\n",
      "total loss: 175031.636766\n",
      "Total execution time: 6.034984 seconds\n",
      "----------------step 5----------------\n",
      "predict error: 35423.793128\n",
      "confidence error: 68921.324312\n",
      "regularization: 96641.262625\n",
      "total loss: 165562.586937\n",
      "Total execution time: 5.724280 seconds\n",
      "----------------step 6----------------\n",
      "predict error: 31547.416599\n",
      "confidence error: 63425.550341\n",
      "regularization: 93846.676758\n",
      "total loss: 157272.227099\n",
      "Total execution time: 5.681496 seconds\n",
      "----------------step 7----------------\n",
      "predict error: 31699.126292\n",
      "confidence error: 62150.928442\n",
      "regularization: 88628.710452\n",
      "total loss: 150779.638894\n",
      "Total execution time: 5.820131 seconds\n",
      "----------------step 8----------------\n",
      "predict error: 32259.499952\n",
      "confidence error: 61065.908945\n",
      "regularization: 85155.989931\n",
      "total loss: 146221.898876\n",
      "Total execution time: 6.092313 seconds\n",
      "----------------step 9----------------\n",
      "predict error: 33297.243670\n",
      "confidence error: 60868.626997\n",
      "regularization: 83224.066976\n",
      "total loss: 144092.693974\n"
     ]
    }
   ],
   "source": [
    "predict_errors = []\n",
    "confidence_errors = []\n",
    "regularization_list = []\n",
    "total_losses = []\n",
    "\n",
    "for i in range(10):   \n",
    "    if i!=0:   \n",
    "        yTy = np.matmul(np.transpose(Y),Y)\n",
    "        xTx = np.matmul(np.transpose(X),X) \n",
    "        start_time = time.time()\n",
    "        optimize_user(X, Y, C_matrix, P_matrix, M, N, dimension, lambda_for_regularization, yTy)\n",
    "        optimize_item(X, Y, C_matrix, P_matrix, M, N, dimension, lambda_for_regularization, xTx)\n",
    "        end_time = time.time()\n",
    "        execution_time = end_time - start_time\n",
    "        print(\"Total execution time: %f seconds\" % execution_time)\n",
    "\n",
    "    predict = np.matmul(X, np.transpose(Y))\n",
    "    predict_error, confidence_error, regularization, total_loss = loss_function(C_matrix, P_matrix, predict, X, Y, lambda_for_regularization)\n",
    "    \n",
    "    predict_errors.append(predict_error)\n",
    "    confidence_errors.append(confidence_error)\n",
    "    regularization_list.append(regularization)\n",
    "    total_losses.append(total_loss)\n",
    "    \n",
    "    print('----------------step %d----------------' % i)\n",
    "    print(\"predict error: %f\" % predict_error)\n",
    "    print(\"confidence error: %f\" % confidence_error)\n",
    "    print(\"regularization: %f\" % regularization)\n",
    "    print(\"total loss: %f\" % total_loss)"
   ]
  },
  {
   "cell_type": "code",
   "execution_count": 31,
   "metadata": {},
   "outputs": [
    {
     "data": {
      "text/plain": [
       "<Figure size 640x480 with 0 Axes>"
      ]
     },
     "metadata": {},
     "output_type": "display_data"
    },
    {
     "data": {
      "image/png": "[encoded data removed]",
      "text/plain": [
       "<Figure size 1000x1000 with 4 Axes>"
      ]
     },
     "metadata": {},
     "output_type": "display_data"
    }
   ],
   "source": [
    "from matplotlib import pyplot as plt\n",
    "%matplotlib inline\n",
    "\n",
    "plt.subplots_adjust(wspace=100.0, hspace=20.0)\n",
    "fig = plt.figure()\n",
    "fig.set_figheight(10)\n",
    "fig.set_figwidth(10)\n",
    "predict_error_line = fig.add_subplot(2, 2, 1)\n",
    "confidence_error_line = fig.add_subplot(2, 2, 2)\n",
    "regularization_error_line = fig.add_subplot(2, 2, 3)\n",
    "total_loss_line = fig.add_subplot(2, 2, 4)\n",
    "\n",
    "predict_error_line.set_title(\"Predict Error\") \n",
    "predict_error_line.plot(predict_errors)\n",
    "\n",
    "confidence_error_line.set_title(\"Confidence Error\")\n",
    "confidence_error_line.plot(confidence_errors)\n",
    "\n",
    "regularization_error_line.set_title(\"Regularization\")\n",
    "regularization_error_line.plot(regularization_list)\n",
    "\n",
    "total_loss_line.set_title(\"Total Loss\")\n",
    "total_loss_line.plot(total_losses)\n",
    "plt.show()"
   ]
  },
  {
   "cell_type": "markdown",
   "metadata": {},
   "source": [
    "# Explaning of Recommendation"
   ]
  },
  {
   "cell_type": "code",
   "execution_count": 71,
   "metadata": {},
   "outputs": [],
   "source": [
    "# Pui 값 구하기 \n",
    "def Predict_P_matrix(Y, C_matrix, R_matrix, user):\n",
    "    Cu = np.diag(C_matrix[user])\n",
    "    yT_Cu_y = np.matmul(np.matmul(np.transpose(Y), Cu), Y)   \n",
    "    lI = np.dot(lambda_for_regularization, np.identity(dimension))\n",
    "    Weight = np.linalg.inv(yT_Cu_y + lI)\n",
    "    similarity = np.matmul(np.matmul(Y,Weight),np.transpose(Y))\n",
    "\n",
    "    C_matrix[R_matrix.isnull()] = 0 \n",
    "    Predict_P_matrix = np.matmul(similarity, np.transpose(C_matrix[user]))  \n",
    "    return Predict_P_matrix    "
   ]
  },
  {
   "cell_type": "code",
   "execution_count": 100,
   "metadata": {},
   "outputs": [
    {
     "data": {
      "text/plain": [
       "0.9284351089341775"
      ]
     },
     "execution_count": 100,
     "metadata": {},
     "output_type": "execute_result"
    }
   ],
   "source": [
    "Cu = np.diag(C_matrix[1])\n",
    "yT_Cu_y = np.matmul(np.matmul(np.transpose(Y), Cu), Y)   \n",
    "lI = np.dot(lambda_for_regularization, np.identity(dimension))\n",
    "Weight = np.linalg.inv(yT_Cu_y + lI)\n",
    "similarity = np.matmul(np.matmul(Y[0],Weight),np.transpose(Y))\n",
    "Pu = P_matrix[1]\n",
    "np.matmul(np.matmul(similarity,Cu),Pu)"
   ]
  },
  {
   "cell_type": "code",
   "execution_count": 113,
   "metadata": {},
   "outputs": [],
   "source": [
    "# 치환한 x 구하기 \n",
    "test_x = np.matmul(np.matmul(np.matmul(Weight,np.transpose(Y)),Cu),Pu)"
   ]
  },
  {
   "cell_type": "code",
   "execution_count": 118,
   "metadata": {},
   "outputs": [],
   "source": [
    "original_x = X[1]"
   ]
  },
  {
   "cell_type": "code",
   "execution_count": 120,
   "metadata": {},
   "outputs": [
    {
     "data": {
      "text/plain": [
       "array([-0.00968089, -0.00571092, -0.0225884 , -0.00926231,  0.00699132,\n",
       "       -0.01689658, -0.0040851 ,  0.00540145,  0.0135983 , -0.00613466,\n",
       "       -0.01843601,  0.00799722, -0.00721995,  0.00402944, -0.0125469 ,\n",
       "       -0.0144198 , -0.01708122, -0.03105506,  0.01649255, -0.00987189,\n",
       "       -0.01126397, -0.00540059, -0.01320904, -0.00885514,  0.00497541,\n",
       "        0.00777793, -0.01413874,  0.01133565, -0.0031673 , -0.01658804,\n",
       "       -0.005542  , -0.01521021, -0.01900893, -0.00427824,  0.00911837,\n",
       "       -0.00675734, -0.01032338,  0.00907598, -0.00438013, -0.01418784,\n",
       "        0.00149899, -0.02373213, -0.00014835, -0.01506464,  0.00161229,\n",
       "       -0.01521153, -0.01839201, -0.01373542,  0.00191354, -0.02655737])"
      ]
     },
     "execution_count": 120,
     "metadata": {},
     "output_type": "execute_result"
    }
   ],
   "source": [
    "original_x - test_x "
   ]
  },
  {
   "cell_type": "code",
   "execution_count": 101,
   "metadata": {},
   "outputs": [
    {
     "data": {
      "text/plain": [
       "0.9284351089341774"
      ]
     },
     "execution_count": 101,
     "metadata": {},
     "output_type": "execute_result"
    }
   ],
   "source": [
    "# User 2의 Item 94 P값 \n",
    "explain = Predict_P_matrix(Y, C_matrix, R_matrix, 1)\n",
    "explain[0]"
   ]
  },
  {
   "cell_type": "code",
   "execution_count": 103,
   "metadata": {},
   "outputs": [
    {
     "data": {
      "text/plain": [
       "0.888192219057905"
      ]
     },
     "execution_count": 103,
     "metadata": {},
     "output_type": "execute_result"
    }
   ],
   "source": [
    "xTy = np.matmul(X,np.transpose(Y))\n",
    "original = xTy[1][0]\n",
    "original"
   ]
  },
  {
   "cell_type": "code",
   "execution_count": 76,
   "metadata": {},
   "outputs": [
    {
     "data": {
      "text/plain": [
       "(0.02254894483959647, 0.028006743288345837)"
      ]
     },
     "execution_count": 76,
     "metadata": {},
     "output_type": "execute_result"
    }
   ],
   "source": [
    "np.mean(explain - original), max(explain - original)"
   ]
  },
  {
   "cell_type": "code",
   "execution_count": 43,
   "metadata": {},
   "outputs": [],
   "source": [
    "Cu = np.diag(C_matrix[1])\n",
    "yT_Cu_y = np.matmul(np.matmul(np.transpose(Y), Cu), Y)   \n",
    "lI = np.dot(lambda_for_regularization, np.identity(dimension))\n",
    "Weight = np.linalg.inv(yT_Cu_y + lI)\n",
    "similarity = np.matmul(np.matmul(Y,Weight),np.transpose(Y))"
   ]
  },
  {
   "cell_type": "code",
   "execution_count": 44,
   "metadata": {},
   "outputs": [
    {
     "data": {
      "text/plain": [
       "(1000, 1000)"
      ]
     },
     "execution_count": 44,
     "metadata": {},
     "output_type": "execute_result"
    }
   ],
   "source": [
    "similarity.shape"
   ]
  },
  {
   "cell_type": "markdown",
   "metadata": {},
   "source": [
    "## Test 해보기 "
   ]
  },
  {
   "cell_type": "code",
   "execution_count": 35,
   "metadata": {},
   "outputs": [],
   "source": [
    "# Rank_bar 계산하기 \n",
    "def rank_list(xTy, user):                    # list는 User i의 predicted P 값을 의미 \n",
    "    list = xTy[user]\n",
    "    list_sort = sorted(list)\n",
    "    rank = [1 - (list_sort.index(i) / (len(list_sort) - 1)) for i in list]\n",
    "    return rank\n",
    "\n",
    "def rank_bar(xTy, M, R_matrix_test):\n",
    "    R_matrix_test = R_matrix_test.fillna(0)\n",
    "    sum = 0 \n",
    "    for i in range(M):\n",
    "        sum += np.matmul(R_matrix_test.iloc[i,:],np.transpose(rank_list(xTy,i))) \n",
    "    \n",
    "    rank_bar = sum / np.nansum(R_matrix_test)\n",
    "    return rank_bar "
   ]
  },
  {
   "cell_type": "code",
   "execution_count": 61,
   "metadata": {},
   "outputs": [],
   "source": [
    "xTy = np.matmul(X, np.transpose(Y))"
   ]
  },
  {
   "cell_type": "code",
   "execution_count": 62,
   "metadata": {},
   "outputs": [
    {
     "data": {
      "text/plain": [
       "0.2364803765935235"
      ]
     },
     "execution_count": 62,
     "metadata": {},
     "output_type": "execute_result"
    }
   ],
   "source": [
    "rank_bar(xTy, M, R_matrix_test)"
   ]
  },
  {
   "cell_type": "code",
   "execution_count": 70,
   "metadata": {},
   "outputs": [
    {
     "data": {
      "text/plain": [
       "66639.0"
      ]
     },
     "execution_count": 70,
     "metadata": {},
     "output_type": "execute_result"
    }
   ],
   "source": [
    "np.nansum(R_matrix_test)"
   ]
  },
  {
   "cell_type": "code",
   "execution_count": 69,
   "metadata": {},
   "outputs": [
    {
     "data": {
      "text/plain": [
       "0.19526059771261534"
      ]
     },
     "execution_count": 69,
     "metadata": {},
     "output_type": "execute_result"
    }
   ],
   "source": [
    "dimension = 10 \n",
    "X = np.random.rand(M, dimension) * 0.01\n",
    "Y = np.random.rand(N, dimension) * 0.01\n",
    "\n",
    "P_matrix = np.copy(R_matrix)\n",
    "P_matrix[P_matrix > 0] = 1\n",
    "P_matrix = np.nan_to_num(P_matrix, nan=0)\n",
    "\n",
    "C_matrix = 1 + np.log(1 + np.nan_to_num(R_matrix) / 10**(-8))\n",
    "\n",
    "for i in range(10):   \n",
    "    if i != 0:   \n",
    "        yTy = np.matmul(np.transpose(Y), Y)\n",
    "        xTx = np.matmul(np.transpose(X), X) \n",
    "        optimize_user(X, Y, C_matrix, P_matrix, M, N, dimension, lambda_for_regularization, yTy)\n",
    "        optimize_item(X, Y, C_matrix, P_matrix, M, N, dimension, lambda_for_regularization, xTx)\n",
    "\n",
    "xTy = np.matmul(X, np.transpose(Y))\n",
    "rank_bar_value = rank_bar(xTy, M, R_matrix_test)\n",
    "\n",
    "rank_bar_value"
   ]
  },
  {
   "cell_type": "code",
   "execution_count": 64,
   "metadata": {},
   "outputs": [],
   "source": [
    "dimensions = list(range(10, 101, 10))\n",
    "rank_bar_values = []\n",
    "\n",
    "for dimension in dimensions:\n",
    "    X = np.random.rand(M, dimension) * 0.01\n",
    "    Y = np.random.rand(N, dimension) * 0.01\n",
    "\n",
    "    P_matrix = np.copy(R_matrix)\n",
    "    P_matrix[P_matrix > 0] = 1\n",
    "    P_matrix = np.nan_to_num(P_matrix, nan=0)\n",
    "\n",
    "    C_matrix = 1 + np.log(1 + np.nan_to_num(R_matrix) / 10**(-8))\n",
    "\n",
    "    for i in range(10):   \n",
    "        if i != 0:   \n",
    "            yTy = np.matmul(np.transpose(Y), Y)\n",
    "            xTx = np.matmul(np.transpose(X), X) \n",
    "            optimize_user(X, Y, C_matrix, P_matrix, M, N, dimension, lambda_for_regularization, yTy)\n",
    "            optimize_item(X, Y, C_matrix, P_matrix, M, N, dimension, lambda_for_regularization, xTx)\n",
    "\n",
    "    xTy = np.matmul(X, np.transpose(Y))\n",
    "    rank_bar_value = rank_bar(xTy, M, R_matrix_test)\n",
    "    rank_bar_values.append(rank_bar_value)"
   ]
  },
  {
   "cell_type": "code",
   "execution_count": 66,
   "metadata": {},
   "outputs": [
    {
     "data": {
      "image/png": "[encoded data removed]",
      "text/plain": [
       "<Figure size 640x480 with 1 Axes>"
      ]
     },
     "metadata": {},
     "output_type": "display_data"
    }
   ],
   "source": [
    "plt.plot(dimensions, rank_bar_values, marker='o')\n",
    "plt.xlabel('Dimension')\n",
    "plt.ylabel('Rank Bar Value')\n",
    "plt.title('Rank Bar Value vs. Dimension')\n",
    "plt.show()"
   ]
  },
  {
   "cell_type": "code",
   "execution_count": 68,
   "metadata": {},
   "outputs": [
    {
     "data": {
      "text/plain": [
       "[0.19439966985698479,\n",
       " 0.20753949225264837,\n",
       " 0.21971582170564755,\n",
       " 0.2285090955389129,\n",
       " 0.23631559349382253,\n",
       " 0.2404821274102025,\n",
       " 0.24278248145653117,\n",
       " 0.24422316943213085,\n",
       " 0.24481015477278903,\n",
       " 0.2451404269708866]"
      ]
     },
     "execution_count": 68,
     "metadata": {},
     "output_type": "execute_result"
    }
   ],
   "source": [
    "rank_bar_values"
   ]
  },
  {
   "cell_type": "code",
   "execution_count": 121,
   "metadata": {},
   "outputs": [
    {
     "name": "stdout",
     "output_type": "stream",
     "text": [
      "anyio==3.7.1\n",
      "appnope==0.1.3\n",
      "argon2-cffi==23.1.0\n",
      "argon2-cffi-bindings==21.2.0\n",
      "attrs==23.2.0\n",
      "backcall==0.2.0\n",
      "beautifulsoup4==4.12.2\n",
      "bleach==6.0.0\n",
      "certifi @ file:///private/var/folders/sy/f16zz6x50xz3113nwtb9bvq00000gp/T/abs_477u68wvzm/croot/certifi_1671487773341/work/certifi\n",
      "cffi==1.15.1\n",
      "comm==0.1.4\n",
      "cycler==0.11.0\n",
      "debugpy==1.7.0\n",
      "decorator==5.1.1\n",
      "defusedxml==0.7.1\n",
      "entrypoints==0.4\n",
      "exceptiongroup==1.2.0\n",
      "fastjsonschema==2.19.1\n",
      "fonttools==4.38.0\n",
      "gensim==4.2.0\n",
      "idna==3.6\n",
      "importlib-metadata==6.7.0\n",
      "importlib-resources==5.12.0\n",
      "ipykernel==6.16.2\n",
      "ipython==7.34.0\n",
      "ipython-genutils==0.2.0\n",
      "ipywidgets==8.1.1\n",
      "jedi==0.19.1\n",
      "Jinja2==3.1.2\n",
      "jsonschema==4.17.3\n",
      "jupyter==1.0.0\n",
      "jupyter-console==6.6.3\n",
      "jupyter-server==1.24.0\n",
      "jupyter_client==7.4.9\n",
      "jupyter_core==4.12.0\n",
      "jupyterlab-pygments==0.2.2\n",
      "jupyterlab-widgets==3.0.9\n",
      "kiwisolver==1.4.5\n",
      "MarkupSafe==2.1.3\n",
      "matplotlib==3.5.3\n",
      "matplotlib-inline==0.1.6\n",
      "mistune==3.0.2\n",
      "nbclassic==1.0.0\n",
      "nbclient==0.7.4\n",
      "nbconvert==7.6.0\n",
      "nbformat==5.8.0\n",
      "nest-asyncio==1.5.8\n",
      "networkx==2.6.3\n",
      "notebook==6.5.6\n",
      "notebook_shim==0.2.3\n",
      "numpy==1.21.6\n",
      "packaging==23.2\n",
      "pandas==1.3.5\n",
      "pandocfilters==1.5.0\n",
      "parso==0.8.3\n",
      "pexpect==4.9.0\n",
      "pickleshare==0.7.5\n",
      "Pillow==9.5.0\n",
      "pkgutil_resolve_name==1.3.10\n",
      "prometheus-client==0.17.1\n",
      "prompt-toolkit==3.0.43\n",
      "psutil==5.9.7\n",
      "ptyprocess==0.7.0\n",
      "pycparser==2.21\n",
      "Pygments==2.17.2\n",
      "pyparsing==3.1.1\n",
      "pyrsistent==0.19.3\n",
      "python-dateutil==2.8.2\n",
      "pytz==2023.3.post1\n",
      "pyzmq==24.0.1\n",
      "qtconsole==5.4.4\n",
      "QtPy==2.4.1\n",
      "scipy==1.7.3\n",
      "Send2Trash==1.8.2\n",
      "six==1.16.0\n",
      "smart-open==6.4.0\n",
      "sniffio==1.3.0\n",
      "soupsieve==2.4.1\n",
      "terminado==0.17.1\n",
      "tinycss2==1.2.1\n",
      "torch==1.13.1\n",
      "tornado==6.2\n",
      "traitlets==5.9.0\n",
      "typing_extensions==4.7.1\n",
      "wcwidth==0.2.12\n",
      "webencodings==0.5.1\n",
      "websocket-client==1.6.1\n",
      "widgetsnbextension==4.0.9\n",
      "zipp==3.15.0\n",
      "Note: you may need to restart the kernel to use updated packages.\n"
     ]
    }
   ],
   "source": [
    "pip freeze"
   ]
  },
  {
   "cell_type": "code",
   "execution_count": null,
   "metadata": {},
   "outputs": [],
   "source": []
  }
 ],
 "metadata": {
  "interpreter": {
   "hash": "64899620a4720dc65f8590bd807a147b9e0b586abbcb5f41c4838230f5e89ff5"
  },
  "kernelspec": {
   "display_name": "Python 3.7.16 64-bit (conda)",
   "language": "python",
   "name": "python3"
  },
  "language_info": {
   "codemirror_mode": {
    "name": "ipython",
    "version": 3
   },
   "file_extension": ".py",
   "mimetype": "text/x-python",
   "name": "python",
   "nbconvert_exporter": "python",
   "pygments_lexer": "ipython3",
   "version": "3.7.16"
  },
  "orig_nbformat": 4
 },
 "nbformat": 4,
 "nbformat_minor": 2
}
