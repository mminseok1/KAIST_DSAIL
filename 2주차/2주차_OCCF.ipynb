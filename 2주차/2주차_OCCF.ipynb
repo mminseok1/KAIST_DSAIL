{
 "cells": [
  {
   "cell_type": "markdown",
   "metadata": {},
   "source": [
    "- 출처: https://github.com/yeomko22/ALS_implementation/blob/master/als.ipynb\n",
    "- 안돌아가는 부분이 있어서 조금 수정한 버전 "
   ]
  },
  {
   "cell_type": "markdown",
   "metadata": {},
   "source": [
    "# Set parameters \n",
    "- lambda_for_regularization : 목적함수 정규화항 파라미터 \n",
    "- alpha : c(ui) 업데이트 파라미터 \n",
    "- dimension : latent vector 사이즈 파라미터 \n",
    "\n",
    "- 본 논문에서는 alpha = 40, dimension = 200 일 때 좋은 결과를 보인다고 명시되어 있음\n",
    "- lambda는 Data-dependent, cross-validation에 의해 결정됨 "
   ]
  },
  {
   "cell_type": "code",
   "execution_count": 1,
   "metadata": {},
   "outputs": [],
   "source": [
    "dimension = 200\n",
    "alpha = 40\n",
    "lambda_for_regularization = 40"
   ]
  },
  {
   "cell_type": "markdown",
   "metadata": {},
   "source": [
    "## Rating matrix 예시 \n",
    "- (10 x 11) matrix\n",
    "- 10명의 유저, 11명의 아이템 "
   ]
  },
  {
   "cell_type": "code",
   "execution_count": 2,
   "metadata": {},
   "outputs": [],
   "source": [
    "import numpy as np\n",
    "\n",
    "# sample rating matrix\n",
    "R_matrix = np.array([[0, 0, 0, 4, 4, 0, 0, 0, 0, 0, 0],\n",
    "              [0, 0, 0, 0, 0, 0, 0, 0, 0, 0, 1],\n",
    "              [0, 0, 0, 0, 0, 0, 0, 1, 0, 4, 0],\n",
    "              [0, 3, 4, 0, 3, 0, 0, 2, 2, 0, 0],\n",
    "              [0, 5, 5, 0, 0, 0, 0, 0, 0, 0, 0],\n",
    "              [0, 0, 0, 0, 0, 0, 5, 0, 0, 5, 0],\n",
    "              [0, 0, 4, 0, 0, 0, 0, 0, 0, 0, 5],\n",
    "              [0, 0, 0, 0, 0, 4, 0, 0, 0, 0, 4],\n",
    "              [0, 0, 0, 0, 0, 0, 5, 0, 0, 5, 0],\n",
    "              [0, 0, 0, 3, 0, 0, 0, 0, 4, 5, 0]])\n"
   ]
  },
  {
   "cell_type": "markdown",
   "metadata": {},
   "source": [
    "## M, N 값 , Latent Matrix 설정 \n",
    "- n_users: M 값\n",
    "- n_items: N 값 \n",
    "- X: User의 Latent Matrix \n",
    "- Y: Item의 Latent Matrix "
   ]
  },
  {
   "cell_type": "code",
   "execution_count": 3,
   "metadata": {},
   "outputs": [],
   "source": [
    "n_users = R_matrix.shape[0]                     # M 값 \n",
    "n_items = R_matrix.shape[1]                     # N 값 \n",
    "\n",
    "# Latent matrix \n",
    "X = np.random.rand(n_users, dimension) * 0.01    # 0 ~ 0.01 사이 난수 \n",
    "Y = np.random.rand(n_items, dimension) * 0.01"
   ]
  },
  {
   "cell_type": "markdown",
   "metadata": {},
   "source": [
    "## P Matrix 만들기 \n",
    "- 값이 있으면 1 \n",
    "- 값이 없으면 0 "
   ]
  },
  {
   "cell_type": "code",
   "execution_count": 4,
   "metadata": {},
   "outputs": [],
   "source": [
    "P_matrix = np.copy(R_matrix)\n",
    "P_matrix[P_matrix > 0] = 1\n",
    "P_matrix = np.nan_to_num(P_matrix, nan=0)"
   ]
  },
  {
   "cell_type": "markdown",
   "metadata": {},
   "source": [
    "## C Matrix 만들기 \n",
    "- C는 Confidence level을 의미 "
   ]
  },
  {
   "cell_type": "code",
   "execution_count": 5,
   "metadata": {},
   "outputs": [],
   "source": [
    "C_matrix = 1 + alpha * R_matrix\n",
    "# C_matrix = 1 + np.log(1+ np.nan_to_num(R_matrix) / 10**(-8))  -> log 스케일로 사용하는 방법 "
   ]
  },
  {
   "cell_type": "markdown",
   "metadata": {},
   "source": [
    "## Loss function\n",
    "- xTy: predict matrix  \n",
    "- 제곱합(첫 번째 항) + 정규화(두 번째 항)으로 구성 "
   ]
  },
  {
   "cell_type": "code",
   "execution_count": 6,
   "metadata": {},
   "outputs": [],
   "source": [
    "def loss_function(C_matrix, P_matrix, xTy, X, Y, lambda_for_regularization):\n",
    "    # 첫 번째 항 \n",
    "    predict_error = np.square(P_matrix - xTy)\n",
    "    confidence_error = np.nansum(C_matrix * predict_error)\n",
    "\n",
    "    # 두 번째 항 \n",
    "    regularization =lambda_for_regularization * (np.nansum(np.square(X)) + np.nansum(np.square(Y)))\n",
    "    total_loss = confidence_error + regularization\n",
    "    \n",
    "    return np.nansum(predict_error), confidence_error, regularization, total_loss"
   ]
  },
  {
   "cell_type": "markdown",
   "metadata": {},
   "source": [
    "## Optimization \n",
    "- 시간복잡도 고려 \n"
   ]
  },
  {
   "cell_type": "code",
   "execution_count": 7,
   "metadata": {},
   "outputs": [],
   "source": [
    "# X, Y 업데이트 \n",
    "def optimize_user(X, Y, C_matrix, P_matrix, n_users, n_items, dimension,lambda_for_regularization):\n",
    "    yT = np.transpose(Y)\n",
    "    for u in range(n_users):\n",
    "        Cu = np.diag(C_matrix[u])\n",
    "        # yT_Cu_y = np.matmul(np.matmul(yT, Cu), Y) -> 시간 복잡도 Trick 이전 \n",
    "        yT_Cu_y = np.matmul(yT,Y) + np.matmul(np.matmul(yT, Cu - np.identity(n_items)), Y)          # 시간 복잡도 Trick 사용 \n",
    "        lI = np.dot(lambda_for_regularization, np.identity(dimension))\n",
    "        yT_Cu_pu = np.matmul(np.matmul(yT, Cu), P_matrix[u])\n",
    "        X[u] = np.linalg.solve(yT_Cu_y + lI, yT_Cu_pu)                                              # Ax = b에서 x를 구하는 데 사용되는 함수 \n",
    "\n",
    "def optimize_item(X, Y, C_matrix, P_matrix, n_users, n_items, dimension, lambda_for_regularization):\n",
    "    xT = np.transpose(X)\n",
    "    for i in range(n_users):\n",
    "        Ci = np.diag(C_matrix[:, i])\n",
    "        # xT_Ci_x = np.matmul(np.matmul(xT, Ci), X) -> 시간 복잡도 Trick 이전 \n",
    "        xT_Ci_x = np.matmul(xT,X) + np.matmul(np.matmul(xT, Ci - np.identity(n_users)), X)          # 시간 복잡도 Trick 사용 \n",
    "        lI = np.dot(lambda_for_regularization, np.identity(dimension))\n",
    "        xT_Ci_pi = np.matmul(np.matmul(xT, Ci), P_matrix[:, i])\n",
    "        Y[i] = np.linalg.solve(xT_Ci_x + lI, xT_Ci_pi)"
   ]
  },
  {
   "cell_type": "code",
   "execution_count": 8,
   "metadata": {},
   "outputs": [],
   "source": [
    "# X, Y 업데이트 \n",
    "def optimize_user_before_Trick(X, Y, C_matrix, P_matrix, n_users, n_items, dimension,lambda_for_regularization):\n",
    "    yT = np.transpose(Y)\n",
    "    for u in range(n_users):\n",
    "        Cu = np.diag(C_matrix[u])\n",
    "        yT_Cu_y = np.matmul(np.matmul(yT, Cu), Y)                                                   # 시간 복잡도 Trick 이전 \n",
    "        # yT_Cu_y = np.matmul(yT,Y) + np.matmul(np.matmul(yT, Cu - np.identity(n_items)), Y)        # 시간 복잡도 Trick 사용 \n",
    "        lI = np.dot(lambda_for_regularization, np.identity(dimension))\n",
    "        yT_Cu_pu = np.matmul(np.matmul(yT, Cu), P_matrix[u])\n",
    "        X[u] = np.linalg.solve(yT_Cu_y + lI, yT_Cu_pu)                                              # Ax = b에서 x를 구하는 데 사용되는 함수 \n",
    "\n",
    "def optimize_item_before_Trick(X, Y, C_matrix, P_matrix, n_users, n_items, dimension, lambda_for_regularization):\n",
    "    xT = np.transpose(X)\n",
    "    for i in range(n_users):\n",
    "        Ci = np.diag(C_matrix[:, i])\n",
    "        xT_Ci_x = np.matmul(np.matmul(xT, Ci), X)                                                     # 시간 복잡도 Trick 이전 \n",
    "        # xT_Ci_x = np.matmul(xT,X) + np.matmul(np.matmul(xT, Ci - np.identity(n_users)), X)          # 시간 복잡도 Trick 사용 \n",
    "        lI = np.dot(lambda_for_regularization, np.identity(dimension))\n",
    "        xT_Ci_pi = np.matmul(np.matmul(xT, Ci), P_matrix[:, i])\n",
    "        Y[i] = np.linalg.solve(xT_Ci_x + lI, xT_Ci_pi)"
   ]
  },
  {
   "cell_type": "markdown",
   "metadata": {},
   "source": [
    "## Train\n",
    "- 논문에는 보통 10번 정도 최적화한다고 명시되어 있음 "
   ]
  },
  {
   "cell_type": "code",
   "execution_count": 9,
   "metadata": {},
   "outputs": [
    {
     "name": "stdout",
     "output_type": "stream",
     "text": [
      "----------------step 0----------------\n",
      "predict error: 22.775467\n",
      "confidence error: 3468.778687\n",
      "regularization: 5.591364\n",
      "total loss: 3474.370052\n",
      "----------------step 1----------------\n",
      "predict error: 27.878052\n",
      "confidence error: 614.929717\n",
      "regularization: 577.427170\n",
      "total loss: 1192.356887\n",
      "----------------step 2----------------\n",
      "predict error: 31.750291\n",
      "confidence error: 476.179407\n",
      "regularization: 596.029950\n",
      "total loss: 1072.209357\n",
      "----------------step 3----------------\n",
      "predict error: 30.853459\n",
      "confidence error: 458.458783\n",
      "regularization: 598.674272\n",
      "total loss: 1057.133055\n",
      "----------------step 4----------------\n",
      "predict error: 29.348145\n",
      "confidence error: 449.184925\n",
      "regularization: 601.687732\n",
      "total loss: 1050.872657\n",
      "----------------step 5----------------\n",
      "predict error: 27.902024\n",
      "confidence error: 443.575746\n",
      "regularization: 604.299881\n",
      "total loss: 1047.875627\n",
      "----------------step 6----------------\n",
      "predict error: 26.682843\n",
      "confidence error: 439.950515\n",
      "regularization: 606.332847\n",
      "total loss: 1046.283361\n",
      "----------------step 7----------------\n",
      "predict error: 25.699114\n",
      "confidence error: 437.492026\n",
      "regularization: 607.854860\n",
      "total loss: 1045.346887\n",
      "----------------step 8----------------\n",
      "predict error: 24.916410\n",
      "confidence error: 435.757864\n",
      "regularization: 608.981997\n",
      "total loss: 1044.739861\n",
      "----------------step 9----------------\n",
      "predict error: 24.295274\n",
      "confidence error: 434.494117\n",
      "regularization: 609.818295\n",
      "total loss: 1044.312413\n",
      "final predict\n",
      "[array([[0.        , 0.75670181, 0.76749536, 0.85583626, 0.83922942,\n",
      "        0.29599885, 0.59289711, 0.68319467, 0.80950791, 0.8272789 ,\n",
      "        0.05026565],\n",
      "       [0.        , 0.05448519, 0.06416187, 0.03874001, 0.04130823,\n",
      "        0.05424642, 0.03208169, 0.03868326, 0.04044473, 0.04306431,\n",
      "        0.00536677],\n",
      "       [0.        , 0.52984365, 0.55127269, 0.62264816, 0.59161603,\n",
      "        0.24442409, 0.74886059, 0.57042887, 0.62353859, 0.86595702,\n",
      "        0.04136858],\n",
      "       [0.        , 0.91527696, 0.96190574, 0.89925455, 0.90093134,\n",
      "        0.4737953 , 0.67384529, 0.77063764, 0.87615721, 0.92036957,\n",
      "        0.0663457 ],\n",
      "       [0.        , 0.85070507, 0.92491894, 0.6762042 , 0.71153942,\n",
      "        0.55352816, 0.40351981, 0.60722087, 0.67280259, 0.61725521,\n",
      "        0.06488611],\n",
      "       [0.        , 0.39866133, 0.41723714, 0.53815053, 0.48950082,\n",
      "        0.18390449, 0.87972522, 0.53192355, 0.55702749, 0.93854067,\n",
      "        0.03520807],\n",
      "       [0.        , 0.74782214, 0.84608159, 0.55456314, 0.58996212,\n",
      "        0.61232833, 0.37709799, 0.52454532, 0.56476678, 0.54710568,\n",
      "        0.06484624],\n",
      "       [0.        , 0.61075178, 0.76218525, 0.33463816, 0.38264539,\n",
      "        0.77731004, 0.25157899, 0.37159812, 0.36806462, 0.35868648,\n",
      "        0.06848199],\n",
      "       [0.        , 0.39866133, 0.41723714, 0.53815053, 0.48950082,\n",
      "        0.18390449, 0.87972522, 0.53192355, 0.55702749, 0.93854067,\n",
      "        0.03520807],\n",
      "       [0.        , 0.74730277, 0.76223815, 0.8667374 , 0.83944911,\n",
      "        0.30217208, 0.74730818, 0.72267163, 0.83427709, 0.95927437,\n",
      "        0.0522148 ]])]\n"
     ]
    }
   ],
   "source": [
    "predict_errors = []\n",
    "confidence_errors = []\n",
    "regularization_list = []\n",
    "total_losses = []\n",
    "\n",
    "for i in range(10):   \n",
    "    if i!=0:   \n",
    "        optimize_user(X, Y, C_matrix, P_matrix, n_users, n_items, dimension, lambda_for_regularization)\n",
    "        optimize_item(X, Y, C_matrix, P_matrix, n_users,n_items, dimension, lambda_for_regularization)\n",
    "    predict = np.matmul(X, np.transpose(Y))\n",
    "    predict_error, confidence_error, regularization, total_loss = loss_function(C_matrix, P_matrix, predict, X, Y, lambda_for_regularization)\n",
    "    \n",
    "    predict_errors.append(predict_error)\n",
    "    confidence_errors.append(confidence_error)\n",
    "    regularization_list.append(regularization)\n",
    "    total_losses.append(total_loss)\n",
    "    \n",
    "    print('----------------step %d----------------' % i)\n",
    "    print(\"predict error: %f\" % predict_error)\n",
    "    print(\"confidence error: %f\" % confidence_error)\n",
    "    print(\"regularization: %f\" % regularization)\n",
    "    print(\"total loss: %f\" % total_loss)\n",
    "    \n",
    "predict = np.matmul(X, np.transpose(Y))\n",
    "print('final predict')\n",
    "print([predict])"
   ]
  },
  {
   "cell_type": "code",
   "execution_count": 10,
   "metadata": {},
   "outputs": [
    {
     "data": {
      "text/plain": [
       "<Figure size 640x480 with 0 Axes>"
      ]
     },
     "metadata": {},
     "output_type": "display_data"
    },
    {
     "data": {
      "image/png": "[encoded data removed]",
      "text/plain": [
       "<Figure size 1000x1000 with 4 Axes>"
      ]
     },
     "metadata": {},
     "output_type": "display_data"
    }
   ],
   "source": [
    "from matplotlib import pyplot as plt\n",
    "%matplotlib inline\n",
    "\n",
    "plt.subplots_adjust(wspace=100.0, hspace=20.0)\n",
    "fig = plt.figure()\n",
    "fig.set_figheight(10)\n",
    "fig.set_figwidth(10)\n",
    "predict_error_line = fig.add_subplot(2, 2, 1)\n",
    "confidence_error_line = fig.add_subplot(2, 2, 2)\n",
    "regularization_error_line = fig.add_subplot(2, 2, 3)\n",
    "total_loss_line = fig.add_subplot(2, 2, 4)\n",
    "\n",
    "predict_error_line.set_title(\"Predict Error\") \n",
    "predict_error_line.plot(predict_errors)\n",
    "\n",
    "confidence_error_line.set_title(\"Confidence Error\")\n",
    "confidence_error_line.plot(confidence_errors)\n",
    "\n",
    "regularization_error_line.set_title(\"Regularization\")\n",
    "regularization_error_line.plot(regularization_list)\n",
    "\n",
    "total_loss_line.set_title(\"Total Loss\")\n",
    "total_loss_line.plot(total_losses)\n",
    "plt.show()"
   ]
  },
  {
   "cell_type": "code",
   "execution_count": 11,
   "metadata": {},
   "outputs": [
    {
     "name": "stdout",
     "output_type": "stream",
     "text": [
      "anyio==3.7.1\n",
      "appnope==0.1.3\n",
      "argon2-cffi==23.1.0\n",
      "argon2-cffi-bindings==21.2.0\n",
      "attrs==23.2.0\n",
      "backcall==0.2.0\n",
      "beautifulsoup4==4.12.2\n",
      "bleach==6.0.0\n",
      "certifi @ file:///private/var/folders/sy/f16zz6x50xz3113nwtb9bvq00000gp/T/abs_477u68wvzm/croot/certifi_1671487773341/work/certifi\n",
      "cffi==1.15.1\n",
      "comm==0.1.4\n",
      "cycler==0.11.0\n",
      "debugpy==1.7.0\n",
      "decorator==5.1.1\n",
      "defusedxml==0.7.1\n",
      "entrypoints==0.4\n",
      "exceptiongroup==1.2.0\n",
      "fastjsonschema==2.19.1\n",
      "fonttools==4.38.0\n",
      "gensim==4.2.0\n",
      "idna==3.6\n",
      "importlib-metadata==6.7.0\n",
      "importlib-resources==5.12.0\n",
      "ipykernel==6.16.2\n",
      "ipython==7.34.0\n",
      "ipython-genutils==0.2.0\n",
      "ipywidgets==8.1.1\n",
      "jedi==0.19.1\n",
      "Jinja2==3.1.2\n",
      "jsonschema==4.17.3\n",
      "jupyter==1.0.0\n",
      "jupyter-console==6.6.3\n",
      "jupyter-server==1.24.0\n",
      "jupyter_client==7.4.9\n",
      "jupyter_core==4.12.0\n",
      "jupyterlab-pygments==0.2.2\n",
      "jupyterlab-widgets==3.0.9\n",
      "kiwisolver==1.4.5\n",
      "MarkupSafe==2.1.3\n",
      "matplotlib==3.5.3\n",
      "matplotlib-inline==0.1.6\n",
      "mistune==3.0.2\n",
      "nbclassic==1.0.0\n",
      "nbclient==0.7.4\n",
      "nbconvert==7.6.0\n",
      "nbformat==5.8.0\n",
      "nest-asyncio==1.5.8\n",
      "networkx==2.6.3\n",
      "notebook==6.5.6\n",
      "notebook_shim==0.2.3\n",
      "numpy==1.21.6\n",
      "packaging==23.2\n",
      "pandas==1.3.5\n",
      "pandocfilters==1.5.0\n",
      "parso==0.8.3\n",
      "pexpect==4.9.0\n",
      "pickleshare==0.7.5\n",
      "Pillow==9.5.0\n",
      "pkgutil_resolve_name==1.3.10\n",
      "prometheus-client==0.17.1\n",
      "prompt-toolkit==3.0.43\n",
      "psutil==5.9.7\n",
      "ptyprocess==0.7.0\n",
      "pycparser==2.21\n",
      "Pygments==2.17.2\n",
      "pyparsing==3.1.1\n",
      "pyrsistent==0.19.3\n",
      "python-dateutil==2.8.2\n",
      "pytz==2023.3.post1\n",
      "pyzmq==24.0.1\n",
      "qtconsole==5.4.4\n",
      "QtPy==2.4.1\n",
      "scipy==1.7.3\n",
      "Send2Trash==1.8.2\n",
      "six==1.16.0\n",
      "smart-open==6.4.0\n",
      "sniffio==1.3.0\n",
      "soupsieve==2.4.1\n",
      "terminado==0.17.1\n",
      "tinycss2==1.2.1\n",
      "torch==1.13.1\n",
      "tornado==6.2\n",
      "traitlets==5.9.0\n",
      "typing_extensions==4.7.1\n",
      "wcwidth==0.2.12\n",
      "webencodings==0.5.1\n",
      "websocket-client==1.6.1\n",
      "widgetsnbextension==4.0.9\n",
      "zipp==3.15.0\n",
      "Note: you may need to restart the kernel to use updated packages.\n"
     ]
    }
   ],
   "source": [
    "pip freeze"
   ]
  },
  {
   "cell_type": "code",
   "execution_count": null,
   "metadata": {},
   "outputs": [],
   "source": []
  }
 ],
 "metadata": {
  "kernelspec": {
   "display_name": "Python 3",
   "language": "python",
   "name": "python3"
  },
  "language_info": {
   "codemirror_mode": {
    "name": "ipython",
    "version": 3
   },
   "file_extension": ".py",
   "mimetype": "text/x-python",
   "name": "python",
   "nbconvert_exporter": "python",
   "pygments_lexer": "ipython3",
   "version": "3.7.16"
  }
 },
 "nbformat": 4,
 "nbformat_minor": 2
}
